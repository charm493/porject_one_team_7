{
 "cells": [
  {
   "cell_type": "code",
   "execution_count": 19,
   "metadata": {},
   "outputs": [],
   "source": [
    "import pandas as pd\n",
    "from atwater_functions import load_data, merge_data, plot_with_dividers\n",
    "import matplotlib.pyplot as plt\n",
    "from datetime import timedelta\n",
    "import matplotlib.patches as mpatches\n"
   ]
  },
  {
   "cell_type": "code",
   "execution_count": 20,
   "metadata": {},
   "outputs": [
    {
     "name": "stdout",
     "output_type": "stream",
     "text": [
      "{'Meta Data': {'1. Information': 'Intraday (5min) open, high, low, close prices and volume', '2. Symbol': 'IBM', '3. Last Refreshed': '2024-12-13 19:55:00', '4. Interval': '5min', '5. Output Size': 'Compact', '6. Time Zone': 'US/Eastern'}, 'Time Series (5min)': {'2024-12-13 19:55:00': {'1. open': '230.5000', '2. high': '230.5000', '3. low': '230.5000', '4. close': '230.5000', '5. volume': '35'}, '2024-12-13 19:50:00': {'1. open': '230.7999', '2. high': '230.7999', '3. low': '230.7999', '4. close': '230.7999', '5. volume': '15'}, '2024-12-13 19:45:00': {'1. open': '230.5000', '2. high': '230.5000', '3. low': '230.5000', '4. close': '230.5000', '5. volume': '40'}, '2024-12-13 19:40:00': {'1. open': '230.5000', '2. high': '230.5000', '3. low': '230.5000', '4. close': '230.5000', '5. volume': '8'}, '2024-12-13 19:35:00': {'1. open': '230.8000', '2. high': '230.8000', '3. low': '230.6000', '4. close': '230.6000', '5. volume': '40'}, '2024-12-13 19:25:00': {'1. open': '230.5700', '2. high': '230.7999', '3. low': '230.5700', '4. close': '230.7999', '5. volume': '25'}, '2024-12-13 19:20:00': {'1. open': '230.5100', '2. high': '230.5100', '3. low': '230.5100', '4. close': '230.5100', '5. volume': '1'}, '2024-12-13 19:15:00': {'1. open': '230.8000', '2. high': '230.8000', '3. low': '230.8000', '4. close': '230.8000', '5. volume': '15'}, '2024-12-13 19:10:00': {'1. open': '230.5000', '2. high': '230.8000', '3. low': '230.5000', '4. close': '230.8000', '5. volume': '6'}, '2024-12-13 19:00:00': {'1. open': '230.8200', '2. high': '230.8200', '3. low': '230.8200', '4. close': '230.8200', '5. volume': '887338'}, '2024-12-13 18:50:00': {'1. open': '230.7900', '2. high': '230.8000', '3. low': '230.7900', '4. close': '230.8000', '5. volume': '29'}, '2024-12-13 18:45:00': {'1. open': '230.5100', '2. high': '230.5100', '3. low': '230.5100', '4. close': '230.5100', '5. volume': '4'}, '2024-12-13 18:30:00': {'1. open': '230.8200', '2. high': '230.8200', '3. low': '230.8000', '4. close': '230.8000', '5. volume': '887339'}, '2024-12-13 18:25:00': {'1. open': '230.7900', '2. high': '230.7900', '3. low': '230.5001', '4. close': '230.5001', '5. volume': '4'}, '2024-12-13 18:20:00': {'1. open': '230.5000', '2. high': '230.7999', '3. low': '230.5000', '4. close': '230.7999', '5. volume': '78'}, '2024-12-13 18:15:00': {'1. open': '230.7900', '2. high': '230.8000', '3. low': '230.7900', '4. close': '230.8000', '5. volume': '6'}, '2024-12-13 18:00:00': {'1. open': '230.8000', '2. high': '230.8000', '3. low': '230.8000', '4. close': '230.8000', '5. volume': '20'}, '2024-12-13 17:55:00': {'1. open': '230.8000', '2. high': '230.8000', '3. low': '230.8000', '4. close': '230.8000', '5. volume': '25'}, '2024-12-13 17:50:00': {'1. open': '230.7800', '2. high': '230.7800', '3. low': '230.7800', '4. close': '230.7800', '5. volume': '4'}, '2024-12-13 17:45:00': {'1. open': '230.5100', '2. high': '230.5100', '3. low': '230.5100', '4. close': '230.5100', '5. volume': '3'}, '2024-12-13 17:35:00': {'1. open': '230.6000', '2. high': '230.7800', '3. low': '230.5100', '4. close': '230.5100', '5. volume': '20'}, '2024-12-13 17:30:00': {'1. open': '230.5500', '2. high': '230.5500', '3. low': '230.5000', '4. close': '230.5000', '5. volume': '44'}, '2024-12-13 17:25:00': {'1. open': '230.5000', '2. high': '230.5100', '3. low': '230.5000', '4. close': '230.5100', '5. volume': '37'}, '2024-12-13 17:15:00': {'1. open': '230.5000', '2. high': '230.8200', '3. low': '230.5000', '4. close': '230.8200', '5. volume': '12671'}, '2024-12-13 17:05:00': {'1. open': '230.1500', '2. high': '230.1500', '3. low': '230.1500', '4. close': '230.1500', '5. volume': '1'}, '2024-12-13 17:00:00': {'1. open': '230.6900', '2. high': '230.8200', '3. low': '230.6900', '4. close': '230.8200', '5. volume': '19307'}, '2024-12-13 16:40:00': {'1. open': '230.8200', '2. high': '230.8200', '3. low': '230.8200', '4. close': '230.8200', '5. volume': '8578'}, '2024-12-13 16:25:00': {'1. open': '230.6900', '2. high': '230.6900', '3. low': '230.6900', '4. close': '230.6900', '5. volume': '12'}, '2024-12-13 16:20:00': {'1. open': '230.8200', '2. high': '230.8200', '3. low': '230.0227', '4. close': '230.6900', '5. volume': '58'}, '2024-12-13 16:15:00': {'1. open': '230.8200', '2. high': '230.8200', '3. low': '230.7000', '4. close': '230.8200', '5. volume': '54'}, '2024-12-13 16:10:00': {'1. open': '230.8200', '2. high': '230.8200', '3. low': '230.1500', '4. close': '230.7000', '5. volume': '887438'}, '2024-12-13 16:05:00': {'1. open': '230.8200', '2. high': '230.8200', '3. low': '230.0000', '4. close': '230.7000', '5. volume': '33347'}, '2024-12-13 16:00:00': {'1. open': '230.7700', '2. high': '230.8300', '3. low': '230.0000', '4. close': '230.1600', '5. volume': '1940242'}, '2024-12-13 15:55:00': {'1. open': '230.3200', '2. high': '230.8900', '3. low': '230.3000', '4. close': '230.7700', '5. volume': '212527'}, '2024-12-13 15:50:00': {'1. open': '230.4400', '2. high': '230.6700', '3. low': '230.2600', '4. close': '230.3700', '5. volume': '88745'}, '2024-12-13 15:45:00': {'1. open': '230.5500', '2. high': '230.8000', '3. low': '230.4300', '4. close': '230.4800', '5. volume': '59504'}, '2024-12-13 15:40:00': {'1. open': '230.6750', '2. high': '230.6750', '3. low': '230.4900', '4. close': '230.5300', '5. volume': '42335'}, '2024-12-13 15:35:00': {'1. open': '230.6900', '2. high': '230.9300', '3. low': '230.6092', '4. close': '230.6973', '5. volume': '44100'}, '2024-12-13 15:30:00': {'1. open': '230.8600', '2. high': '230.9100', '3. low': '230.5900', '4. close': '230.6600', '5. volume': '38062'}, '2024-12-13 15:25:00': {'1. open': '231.0200', '2. high': '231.0250', '3. low': '230.8900', '4. close': '230.9100', '5. volume': '18126'}, '2024-12-13 15:20:00': {'1. open': '230.8320', '2. high': '231.0100', '3. low': '230.7900', '4. close': '230.9700', '5. volume': '22126'}, '2024-12-13 15:15:00': {'1. open': '230.8075', '2. high': '230.9830', '3. low': '230.8050', '4. close': '230.9100', '5. volume': '17007'}, '2024-12-13 15:10:00': {'1. open': '230.5500', '2. high': '230.8000', '3. low': '230.5500', '4. close': '230.8000', '5. volume': '12505'}, '2024-12-13 15:05:00': {'1. open': '230.5550', '2. high': '230.6200', '3. low': '230.5001', '4. close': '230.5100', '5. volume': '21753'}, '2024-12-13 15:00:00': {'1. open': '230.5850', '2. high': '230.6200', '3. low': '230.5000', '4. close': '230.5200', '5. volume': '13393'}, '2024-12-13 14:55:00': {'1. open': '230.6700', '2. high': '230.7300', '3. low': '230.5200', '4. close': '230.5600', '5. volume': '10506'}, '2024-12-13 14:50:00': {'1. open': '230.5900', '2. high': '230.7300', '3. low': '230.5900', '4. close': '230.6250', '5. volume': '10029'}, '2024-12-13 14:45:00': {'1. open': '230.7300', '2. high': '230.7800', '3. low': '230.5100', '4. close': '230.5900', '5. volume': '14001'}, '2024-12-13 14:40:00': {'1. open': '230.8000', '2. high': '230.8100', '3. low': '230.6800', '4. close': '230.6800', '5. volume': '7861'}, '2024-12-13 14:35:00': {'1. open': '230.8400', '2. high': '230.8950', '3. low': '230.7060', '4. close': '230.7525', '5. volume': '11395'}, '2024-12-13 14:30:00': {'1. open': '230.5800', '2. high': '230.7900', '3. low': '230.5800', '4. close': '230.7900', '5. volume': '11118'}, '2024-12-13 14:25:00': {'1. open': '230.7300', '2. high': '230.7600', '3. low': '230.5800', '4. close': '230.6510', '5. volume': '11138'}, '2024-12-13 14:20:00': {'1. open': '230.7800', '2. high': '230.8400', '3. low': '230.6846', '4. close': '230.8300', '5. volume': '12092'}, '2024-12-13 14:15:00': {'1. open': '230.8400', '2. high': '230.9800', '3. low': '230.7635', '4. close': '230.7635', '5. volume': '12813'}, '2024-12-13 14:10:00': {'1. open': '231.0900', '2. high': '231.0900', '3. low': '230.8400', '4. close': '230.9000', '5. volume': '9312'}, '2024-12-13 14:05:00': {'1. open': '230.9000', '2. high': '231.0800', '3. low': '230.8312', '4. close': '231.0800', '5. volume': '9446'}, '2024-12-13 14:00:00': {'1. open': '230.6950', '2. high': '231.0000', '3. low': '230.6900', '4. close': '230.9000', '5. volume': '12416'}, '2024-12-13 13:55:00': {'1. open': '230.8400', '2. high': '230.8800', '3. low': '230.6200', '4. close': '230.6900', '5. volume': '13342'}, '2024-12-13 13:50:00': {'1. open': '231.0900', '2. high': '231.0900', '3. low': '230.8300', '4. close': '230.8300', '5. volume': '12157'}, '2024-12-13 13:45:00': {'1. open': '231.1100', '2. high': '231.1700', '3. low': '231.0100', '4. close': '231.0401', '5. volume': '16047'}, '2024-12-13 13:40:00': {'1. open': '231.2400', '2. high': '231.2671', '3. low': '231.0406', '4. close': '231.0850', '5. volume': '6940'}, '2024-12-13 13:35:00': {'1. open': '231.1000', '2. high': '231.2500', '3. low': '231.0900', '4. close': '231.2400', '5. volume': '5663'}, '2024-12-13 13:30:00': {'1. open': '231.1500', '2. high': '231.2000', '3. low': '230.9900', '4. close': '231.1500', '5. volume': '8212'}, '2024-12-13 13:25:00': {'1. open': '231.2900', '2. high': '231.3300', '3. low': '231.1000', '4. close': '231.1800', '5. volume': '22588'}, '2024-12-13 13:20:00': {'1. open': '231.3180', '2. high': '231.3800', '3. low': '231.2600', '4. close': '231.3250', '5. volume': '6198'}, '2024-12-13 13:15:00': {'1. open': '231.3200', '2. high': '231.4400', '3. low': '231.2000', '4. close': '231.2750', '5. volume': '13564'}, '2024-12-13 13:10:00': {'1. open': '231.2971', '2. high': '231.3800', '3. low': '231.2900', '4. close': '231.3735', '5. volume': '6589'}, '2024-12-13 13:05:00': {'1. open': '231.2800', '2. high': '231.3700', '3. low': '231.2400', '4. close': '231.2900', '5. volume': '8189'}, '2024-12-13 13:00:00': {'1. open': '231.3300', '2. high': '231.3300', '3. low': '231.1550', '4. close': '231.2800', '5. volume': '11169'}, '2024-12-13 12:55:00': {'1. open': '231.4899', '2. high': '231.4899', '3. low': '231.1900', '4. close': '231.3800', '5. volume': '15356'}, '2024-12-13 12:50:00': {'1. open': '231.3355', '2. high': '231.5300', '3. low': '231.2300', '4. close': '231.4700', '5. volume': '16370'}, '2024-12-13 12:45:00': {'1. open': '231.3350', '2. high': '231.4400', '3. low': '231.2201', '4. close': '231.4229', '5. volume': '7952'}, '2024-12-13 12:40:00': {'1. open': '231.1400', '2. high': '231.4800', '3. low': '231.0000', '4. close': '231.3500', '5. volume': '16651'}, '2024-12-13 12:35:00': {'1. open': '230.9800', '2. high': '231.2600', '3. low': '230.8300', '4. close': '231.1900', '5. volume': '42676'}, '2024-12-13 12:30:00': {'1. open': '231.1676', '2. high': '231.2800', '3. low': '230.9400', '4. close': '230.9407', '5. volume': '17420'}, '2024-12-13 12:25:00': {'1. open': '231.1400', '2. high': '231.1900', '3. low': '231.0500', '4. close': '231.1300', '5. volume': '14432'}, '2024-12-13 12:20:00': {'1. open': '231.1800', '2. high': '231.4600', '3. low': '231.0900', '4. close': '231.1250', '5. volume': '14714'}, '2024-12-13 12:15:00': {'1. open': '231.1800', '2. high': '231.3100', '3. low': '231.0500', '4. close': '231.1200', '5. volume': '18532'}, '2024-12-13 12:10:00': {'1. open': '231.3700', '2. high': '231.5500', '3. low': '231.1700', '4. close': '231.2050', '5. volume': '13878'}, '2024-12-13 12:05:00': {'1. open': '231.5300', '2. high': '231.5300', '3. low': '231.3000', '4. close': '231.3800', '5. volume': '11802'}, '2024-12-13 12:00:00': {'1. open': '231.7100', '2. high': '231.7100', '3. low': '231.4300', '4. close': '231.4300', '5. volume': '15863'}, '2024-12-13 11:55:00': {'1. open': '231.5700', '2. high': '231.8400', '3. low': '231.4750', '4. close': '231.7850', '5. volume': '16111'}, '2024-12-13 11:50:00': {'1. open': '231.7900', '2. high': '231.8600', '3. low': '231.5950', '4. close': '231.6000', '5. volume': '18460'}, '2024-12-13 11:45:00': {'1. open': '231.8100', '2. high': '231.9300', '3. low': '231.7800', '4. close': '231.7900', '5. volume': '6672'}, '2024-12-13 11:40:00': {'1. open': '231.6100', '2. high': '231.8900', '3. low': '231.5500', '4. close': '231.8450', '5. volume': '8803'}, '2024-12-13 11:35:00': {'1. open': '232.1300', '2. high': '232.1600', '3. low': '231.5970', '4. close': '231.6200', '5. volume': '17823'}, '2024-12-13 11:30:00': {'1. open': '232.1300', '2. high': '232.2130', '3. low': '232.1300', '4. close': '232.2130', '5. volume': '5655'}, '2024-12-13 11:25:00': {'1. open': '232.2400', '2. high': '232.2450', '3. low': '232.0300', '4. close': '232.0664', '5. volume': '9744'}, '2024-12-13 11:20:00': {'1. open': '231.9900', '2. high': '232.2500', '3. low': '231.9850', '4. close': '232.2500', '5. volume': '10271'}, '2024-12-13 11:15:00': {'1. open': '232.0535', '2. high': '232.1900', '3. low': '231.9100', '4. close': '231.9100', '5. volume': '10588'}, '2024-12-13 11:10:00': {'1. open': '232.2100', '2. high': '232.4600', '3. low': '232.1050', '4. close': '232.1100', '5. volume': '11413'}, '2024-12-13 11:05:00': {'1. open': '231.8150', '2. high': '232.2000', '3. low': '231.8150', '4. close': '232.1650', '5. volume': '14609'}, '2024-12-13 11:00:00': {'1. open': '231.9400', '2. high': '232.0700', '3. low': '231.7703', '4. close': '231.8000', '5. volume': '12045'}, '2024-12-13 10:55:00': {'1. open': '231.6986', '2. high': '231.8650', '3. low': '231.5900', '4. close': '231.8650', '5. volume': '14372'}, '2024-12-13 10:50:00': {'1. open': '231.6900', '2. high': '231.8500', '3. low': '231.5171', '4. close': '231.6450', '5. volume': '10725'}, '2024-12-13 10:45:00': {'1. open': '231.5300', '2. high': '231.9000', '3. low': '231.3700', '4. close': '231.7900', '5. volume': '21513'}, '2024-12-13 10:40:00': {'1. open': '232.0300', '2. high': '232.0400', '3. low': '231.4142', '4. close': '231.4142', '5. volume': '17229'}, '2024-12-13 10:35:00': {'1. open': '231.9400', '2. high': '232.1700', '3. low': '231.9301', '4. close': '232.0900', '5. volume': '14906'}, '2024-12-13 10:30:00': {'1. open': '231.7500', '2. high': '231.9700', '3. low': '231.7350', '4. close': '231.9250', '5. volume': '12423'}, '2024-12-13 10:25:00': {'1. open': '231.2400', '2. high': '231.8189', '3. low': '231.0000', '4. close': '231.7250', '5. volume': '31387'}}}\n"
     ]
    }
   ],
   "source": [
    "import requests\n",
    "\n",
    "\n",
    "url = 'https://www.alphavantage.co/query?function=TIME_SERIES_INTRADAY&symbol=IBM&interval=5min&apikey=LFBR2MU1P6JOUADD'\n",
    "r = requests.get(url)\n",
    "data = r.json()\n",
    "\n",
    "print(data)"
   ]
  },
  {
   "cell_type": "code",
   "execution_count": 21,
   "metadata": {},
   "outputs": [
    {
     "name": "stdout",
     "output_type": "stream",
     "text": [
      "\n",
      "Bitcoin Data Shape: (350, 5)\n",
      "\n",
      "Columns: ['open', 'high', 'low', 'close', 'volume']\n",
      "\n",
      "Most recent data:\n",
      "                 open       high        low      close        volume\n",
      "2024-12-12  101211.61  102595.00   99298.39  100030.47  14796.924565\n",
      "2024-12-13  100024.75  101959.13   99220.81  101428.75  13327.599541\n",
      "2024-12-14  101428.74  102650.00  100600.00  101399.99   4181.401803\n",
      "2024-12-15  101400.00  105100.00  101221.34  104447.76   7796.333581\n",
      "2024-12-16  104445.15  106554.39  104293.75  105042.84   2072.685257\n"
     ]
    }
   ],
   "source": [
    "import requests\n",
    "import pandas as pd\n",
    "from datetime import datetime\n",
    "\n",
    "#3052842814\n",
    "#3052846565\n",
    "API_KEY = 'LFBR2MU1P6JOUADD'  \n",
    "\n",
    "def get_crypto_data(symbol='BTC', market='USD'):\n",
    "    \"\"\"\n",
    "    Get cryptocurrency data from Alpha Vantage\n",
    "    symbol: str, cryptocurrency symbol (e.g., 'BTC', 'ETH', 'DOGE')\n",
    "    market: str, market to compare against (e.g., 'USD', 'EUR')\n",
    "    \"\"\"\n",
    "    \n",
    "    base_url = 'https://www.alphavantage.co/query'\n",
    "    \n",
    "   \n",
    "    params = {\n",
    "        'function': 'DIGITAL_CURRENCY_DAILY',\n",
    "        'symbol': symbol,\n",
    "        'market': market,\n",
    "        'apikey': API_KEY\n",
    "    }\n",
    "    \n",
    "    try:\n",
    "        # Make the request\n",
    "        response = requests.get(base_url, params=params)\n",
    "        data = response.json()\n",
    "        \n",
    "        # Check for error messages\n",
    "        if \"Error Message\" in data:\n",
    "            print(f\"Error: {data['Error Message']}\")\n",
    "            return None\n",
    "            \n",
    "        # Convert to DataFrame\n",
    "        df = pd.DataFrame.from_dict(data['Time Series (Digital Currency Daily)'], \n",
    "                                  orient='index')\n",
    "        \n",
    "        # Clean column names\n",
    "        df.columns = [col.split('. ')[1] for col in df.columns]\n",
    "        \n",
    "        # Convert to numeric\n",
    "        for column in df.columns:\n",
    "            df[column] = pd.to_numeric(df[column])\n",
    "            \n",
    "        # Convert index to datetime\n",
    "        df.index = pd.to_datetime(df.index)\n",
    "        \n",
    "        # Sort by date\n",
    "        df = df.sort_index()\n",
    "        \n",
    "        return df\n",
    "        \n",
    "    except Exception as e:\n",
    "        print(f\"An error occurred: {str(e)}\")\n",
    "        return None\n",
    "\n",
    "# Bitcoin data\n",
    "btc_data = get_crypto_data('BTC', 'USD')\n",
    "\n",
    "if btc_data is not None:\n",
    "    print(\"\\nBitcoin Data Shape:\", btc_data.shape)\n",
    "    print(\"\\nColumns:\", btc_data.columns.tolist())\n",
    "    print(\"\\nMost recent data:\")\n",
    "    print(btc_data.tail())"
   ]
  },
  {
   "cell_type": "code",
   "execution_count": 22,
   "metadata": {},
   "outputs": [],
   "source": [
    "finance_file_path = 'raw_data/Financial Select Sector SPDR Fund.csv'"
   ]
  },
  {
   "cell_type": "code",
   "execution_count": 23,
   "metadata": {},
   "outputs": [
    {
     "name": "stdout",
     "output_type": "stream",
     "text": [
      "/Users/leonardo.galebe/project_1_repo\n",
      "['Utilities Select Sector SPDR Fund.csv', 'political_control_final.csv', 'Financial Select Sector SPDR Fund.csv', 'Technology Select Sector SPDR Fund.csv', 'Health Care Select Sector SPDR Fund.csv', 'Consumer Staples Select Sector SPDR Fund.csv', 'political_control_2014_2024.csv', 'Energy Select Sector SPDR Fund.csv']\n"
     ]
    }
   ],
   "source": [
    "import os\n",
    "\n",
    "\n",
    "print(os.getcwd())\n",
    "\n",
    "\n",
    "print(os.listdir('raw_data'))  # or whatever directory you think contains the file"
   ]
  },
  {
   "cell_type": "code",
   "execution_count": 24,
   "metadata": {},
   "outputs": [
    {
     "data": {
      "text/plain": [
       "<bound method NDFrame.head of       Unnamed: 0  1. open  2. high  3. low  4. close  5. adjusted close  \\\n",
       "0     2024-12-09    50.44  50.4900  49.690     49.71            49.7100   \n",
       "1     2024-12-06    51.42  51.4893  50.085     50.40            50.4000   \n",
       "2     2024-11-29    51.01  51.6200  50.760     51.34            51.3400   \n",
       "3     2024-11-22    49.91  50.7800  49.295     50.73            50.7300   \n",
       "4     2024-11-15    49.68  50.1350  49.545     49.87            49.8700   \n",
       "...          ...      ...      ...     ...       ...                ...   \n",
       "1305  1999-12-10    24.81  24.8100  23.610     24.41            12.0398   \n",
       "1306  1999-12-03    24.28  25.4100  24.030     24.94            12.3012   \n",
       "1307  1999-11-26    25.50  25.5000  24.630     24.63            12.1483   \n",
       "1308  1999-11-19    25.88  26.7800  25.560     25.59            12.6218   \n",
       "1309  1999-11-12    25.97  26.0000  24.640     25.94            12.7944   \n",
       "\n",
       "      6. volume  7. dividend amount  \n",
       "0      41063495                 0.0  \n",
       "1     200463927                 0.0  \n",
       "2     122892643                 0.0  \n",
       "3     181026615                 0.0  \n",
       "4     233041993                 0.0  \n",
       "...         ...                 ...  \n",
       "1305    2575200                 0.0  \n",
       "1306    2702900                 0.0  \n",
       "1307     525800                 0.0  \n",
       "1308    1359100                 0.0  \n",
       "1309    1479800                 0.0  \n",
       "\n",
       "[1310 rows x 8 columns]>"
      ]
     },
     "execution_count": 24,
     "metadata": {},
     "output_type": "execute_result"
    }
   ],
   "source": [
    "stock_only = pd.read_csv(finance_file_path)\n",
    "stock_only.head\n"
   ]
  },
  {
   "cell_type": "code",
   "execution_count": 25,
   "metadata": {},
   "outputs": [
    {
     "name": "stdout",
     "output_type": "stream",
     "text": [
      "\n",
      "Dataset Shape: (1310, 7)\n",
      "\n",
      "Columns: ['open', 'high', 'low', 'close', 'adjusted_close', 'volume', 'dividend_amount']\n",
      "\n",
      "Sample of cleaned data:\n",
      "             open   high    low  close  adjusted_close   volume  \\\n",
      "date                                                              \n",
      "1999-11-12  25.97  26.00  24.64  25.94         12.7944  1479800   \n",
      "1999-11-19  25.88  26.78  25.56  25.59         12.6218  1359100   \n",
      "1999-11-26  25.50  25.50  24.63  24.63         12.1483   525800   \n",
      "1999-12-03  24.28  25.41  24.03  24.94         12.3012  2702900   \n",
      "1999-12-10  24.81  24.81  23.61  24.41         12.0398  2575200   \n",
      "\n",
      "            dividend_amount  \n",
      "date                         \n",
      "1999-11-12              0.0  \n",
      "1999-11-19              0.0  \n",
      "1999-11-26              0.0  \n",
      "1999-12-03              0.0  \n",
      "1999-12-10              0.0  \n",
      "\n",
      "Dataset Info:\n",
      "<class 'pandas.core.frame.DataFrame'>\n",
      "DatetimeIndex: 1310 entries, 1999-11-12 to 2024-12-09\n",
      "Data columns (total 7 columns):\n",
      " #   Column           Non-Null Count  Dtype  \n",
      "---  ------           --------------  -----  \n",
      " 0   open             1310 non-null   float64\n",
      " 1   high             1310 non-null   float64\n",
      " 2   low              1310 non-null   float64\n",
      " 3   close            1310 non-null   float64\n",
      " 4   adjusted_close   1310 non-null   float64\n",
      " 5   volume           1310 non-null   int64  \n",
      " 6   dividend_amount  1310 non-null   float64\n",
      "dtypes: float64(6), int64(1)\n",
      "memory usage: 81.9 KB\n"
     ]
    }
   ],
   "source": [
    "# Clean the financial data\n",
    "stock_data = stock_only\n",
    "\n",
    "\n",
    "stock_data.columns = stock_data.columns.str.replace(r'\\d+\\.\\s*', '').str.lower().str.strip()\n",
    "\n",
    "# Convert date column to datetime\n",
    "stock_data['date'] = pd.to_datetime(stock_data['unnamed: 0'])\n",
    "stock_data = stock_data.drop('unnamed: 0', axis=1)  # Remove the original date column\n",
    "\n",
    "# Set date as index and sort\n",
    "stock_data = stock_data.set_index('date').sort_index()\n",
    "\n",
    "# Remove any duplicate indices\n",
    "stock_data = stock_data.loc[~stock_data.index.duplicated(keep='first')]\n",
    "\n",
    "# Clean up \n",
    "stock_data.columns = ['open', 'high', 'low', 'close', 'adjusted_close', 'volume', 'dividend_amount']\n",
    "\n",
    "# See what we working with \n",
    "print(\"\\nDataset Shape:\", stock_data.shape)\n",
    "print(\"\\nColumns:\", stock_data.columns.tolist())\n",
    "print(\"\\nSample of cleaned data:\")\n",
    "print(stock_data.head())\n",
    "print(\"\\nDataset Info:\")\n",
    "stock_data.info()"
   ]
  },
  {
   "cell_type": "code",
   "execution_count": 26,
   "metadata": {},
   "outputs": [
    {
     "data": {
      "text/html": [
       "<div>\n",
       "<style scoped>\n",
       "    .dataframe tbody tr th:only-of-type {\n",
       "        vertical-align: middle;\n",
       "    }\n",
       "\n",
       "    .dataframe tbody tr th {\n",
       "        vertical-align: top;\n",
       "    }\n",
       "\n",
       "    .dataframe thead th {\n",
       "        text-align: right;\n",
       "    }\n",
       "</style>\n",
       "<table border=\"1\" class=\"dataframe\">\n",
       "  <thead>\n",
       "    <tr style=\"text-align: right;\">\n",
       "      <th></th>\n",
       "      <th>open</th>\n",
       "      <th>high</th>\n",
       "      <th>low</th>\n",
       "      <th>close</th>\n",
       "      <th>adjusted_close</th>\n",
       "      <th>volume</th>\n",
       "      <th>dividend_amount</th>\n",
       "    </tr>\n",
       "    <tr>\n",
       "      <th>date</th>\n",
       "      <th></th>\n",
       "      <th></th>\n",
       "      <th></th>\n",
       "      <th></th>\n",
       "      <th></th>\n",
       "      <th></th>\n",
       "      <th></th>\n",
       "    </tr>\n",
       "  </thead>\n",
       "  <tbody>\n",
       "    <tr>\n",
       "      <th>1999-11-12</th>\n",
       "      <td>25.97</td>\n",
       "      <td>26.00</td>\n",
       "      <td>24.64</td>\n",
       "      <td>25.94</td>\n",
       "      <td>12.7944</td>\n",
       "      <td>1479800</td>\n",
       "      <td>0.0</td>\n",
       "    </tr>\n",
       "    <tr>\n",
       "      <th>1999-11-19</th>\n",
       "      <td>25.88</td>\n",
       "      <td>26.78</td>\n",
       "      <td>25.56</td>\n",
       "      <td>25.59</td>\n",
       "      <td>12.6218</td>\n",
       "      <td>1359100</td>\n",
       "      <td>0.0</td>\n",
       "    </tr>\n",
       "    <tr>\n",
       "      <th>1999-11-26</th>\n",
       "      <td>25.50</td>\n",
       "      <td>25.50</td>\n",
       "      <td>24.63</td>\n",
       "      <td>24.63</td>\n",
       "      <td>12.1483</td>\n",
       "      <td>525800</td>\n",
       "      <td>0.0</td>\n",
       "    </tr>\n",
       "    <tr>\n",
       "      <th>1999-12-03</th>\n",
       "      <td>24.28</td>\n",
       "      <td>25.41</td>\n",
       "      <td>24.03</td>\n",
       "      <td>24.94</td>\n",
       "      <td>12.3012</td>\n",
       "      <td>2702900</td>\n",
       "      <td>0.0</td>\n",
       "    </tr>\n",
       "    <tr>\n",
       "      <th>1999-12-10</th>\n",
       "      <td>24.81</td>\n",
       "      <td>24.81</td>\n",
       "      <td>23.61</td>\n",
       "      <td>24.41</td>\n",
       "      <td>12.0398</td>\n",
       "      <td>2575200</td>\n",
       "      <td>0.0</td>\n",
       "    </tr>\n",
       "  </tbody>\n",
       "</table>\n",
       "</div>"
      ],
      "text/plain": [
       "             open   high    low  close  adjusted_close   volume  \\\n",
       "date                                                              \n",
       "1999-11-12  25.97  26.00  24.64  25.94         12.7944  1479800   \n",
       "1999-11-19  25.88  26.78  25.56  25.59         12.6218  1359100   \n",
       "1999-11-26  25.50  25.50  24.63  24.63         12.1483   525800   \n",
       "1999-12-03  24.28  25.41  24.03  24.94         12.3012  2702900   \n",
       "1999-12-10  24.81  24.81  23.61  24.41         12.0398  2575200   \n",
       "\n",
       "            dividend_amount  \n",
       "date                         \n",
       "1999-11-12              0.0  \n",
       "1999-11-19              0.0  \n",
       "1999-11-26              0.0  \n",
       "1999-12-03              0.0  \n",
       "1999-12-10              0.0  "
      ]
     },
     "execution_count": 26,
     "metadata": {},
     "output_type": "execute_result"
    }
   ],
   "source": [
    "stock_data.head()"
   ]
  },
  {
   "cell_type": "code",
   "execution_count": 27,
   "metadata": {},
   "outputs": [
    {
     "data": {
      "text/html": [
       "<div>\n",
       "<style scoped>\n",
       "    .dataframe tbody tr th:only-of-type {\n",
       "        vertical-align: middle;\n",
       "    }\n",
       "\n",
       "    .dataframe tbody tr th {\n",
       "        vertical-align: top;\n",
       "    }\n",
       "\n",
       "    .dataframe thead th {\n",
       "        text-align: right;\n",
       "    }\n",
       "</style>\n",
       "<table border=\"1\" class=\"dataframe\">\n",
       "  <thead>\n",
       "    <tr style=\"text-align: right;\">\n",
       "      <th></th>\n",
       "      <th>open</th>\n",
       "      <th>high</th>\n",
       "      <th>low</th>\n",
       "      <th>close</th>\n",
       "      <th>adjusted_close</th>\n",
       "      <th>volume</th>\n",
       "      <th>dividend_amount</th>\n",
       "    </tr>\n",
       "    <tr>\n",
       "      <th>date</th>\n",
       "      <th></th>\n",
       "      <th></th>\n",
       "      <th></th>\n",
       "      <th></th>\n",
       "      <th></th>\n",
       "      <th></th>\n",
       "      <th></th>\n",
       "    </tr>\n",
       "  </thead>\n",
       "  <tbody>\n",
       "    <tr>\n",
       "      <th>2024-11-15</th>\n",
       "      <td>49.68</td>\n",
       "      <td>50.1350</td>\n",
       "      <td>49.545</td>\n",
       "      <td>49.87</td>\n",
       "      <td>49.87</td>\n",
       "      <td>233041993</td>\n",
       "      <td>0.0</td>\n",
       "    </tr>\n",
       "    <tr>\n",
       "      <th>2024-11-22</th>\n",
       "      <td>49.91</td>\n",
       "      <td>50.7800</td>\n",
       "      <td>49.295</td>\n",
       "      <td>50.73</td>\n",
       "      <td>50.73</td>\n",
       "      <td>181026615</td>\n",
       "      <td>0.0</td>\n",
       "    </tr>\n",
       "    <tr>\n",
       "      <th>2024-11-29</th>\n",
       "      <td>51.01</td>\n",
       "      <td>51.6200</td>\n",
       "      <td>50.760</td>\n",
       "      <td>51.34</td>\n",
       "      <td>51.34</td>\n",
       "      <td>122892643</td>\n",
       "      <td>0.0</td>\n",
       "    </tr>\n",
       "    <tr>\n",
       "      <th>2024-12-06</th>\n",
       "      <td>51.42</td>\n",
       "      <td>51.4893</td>\n",
       "      <td>50.085</td>\n",
       "      <td>50.40</td>\n",
       "      <td>50.40</td>\n",
       "      <td>200463927</td>\n",
       "      <td>0.0</td>\n",
       "    </tr>\n",
       "    <tr>\n",
       "      <th>2024-12-09</th>\n",
       "      <td>50.44</td>\n",
       "      <td>50.4900</td>\n",
       "      <td>49.690</td>\n",
       "      <td>49.71</td>\n",
       "      <td>49.71</td>\n",
       "      <td>41063495</td>\n",
       "      <td>0.0</td>\n",
       "    </tr>\n",
       "  </tbody>\n",
       "</table>\n",
       "</div>"
      ],
      "text/plain": [
       "             open     high     low  close  adjusted_close     volume  \\\n",
       "date                                                                   \n",
       "2024-11-15  49.68  50.1350  49.545  49.87           49.87  233041993   \n",
       "2024-11-22  49.91  50.7800  49.295  50.73           50.73  181026615   \n",
       "2024-11-29  51.01  51.6200  50.760  51.34           51.34  122892643   \n",
       "2024-12-06  51.42  51.4893  50.085  50.40           50.40  200463927   \n",
       "2024-12-09  50.44  50.4900  49.690  49.71           49.71   41063495   \n",
       "\n",
       "            dividend_amount  \n",
       "date                         \n",
       "2024-11-15              0.0  \n",
       "2024-11-22              0.0  \n",
       "2024-11-29              0.0  \n",
       "2024-12-06              0.0  \n",
       "2024-12-09              0.0  "
      ]
     },
     "execution_count": 27,
     "metadata": {},
     "output_type": "execute_result"
    }
   ],
   "source": [
    "stock_data.tail()"
   ]
  },
  {
   "cell_type": "code",
   "execution_count": 28,
   "metadata": {},
   "outputs": [
    {
     "data": {
      "text/html": [
       "<div>\n",
       "<style scoped>\n",
       "    .dataframe tbody tr th:only-of-type {\n",
       "        vertical-align: middle;\n",
       "    }\n",
       "\n",
       "    .dataframe tbody tr th {\n",
       "        vertical-align: top;\n",
       "    }\n",
       "\n",
       "    .dataframe thead th {\n",
       "        text-align: right;\n",
       "    }\n",
       "</style>\n",
       "<table border=\"1\" class=\"dataframe\">\n",
       "  <thead>\n",
       "    <tr style=\"text-align: right;\">\n",
       "      <th></th>\n",
       "      <th>open</th>\n",
       "      <th>high</th>\n",
       "      <th>low</th>\n",
       "      <th>close</th>\n",
       "      <th>volume</th>\n",
       "    </tr>\n",
       "  </thead>\n",
       "  <tbody>\n",
       "    <tr>\n",
       "      <th>2024-01-02</th>\n",
       "      <td>44220.78</td>\n",
       "      <td>45925.82</td>\n",
       "      <td>44195.13</td>\n",
       "      <td>44972.80</td>\n",
       "      <td>29583.384077</td>\n",
       "    </tr>\n",
       "    <tr>\n",
       "      <th>2024-01-03</th>\n",
       "      <td>44972.81</td>\n",
       "      <td>45519.32</td>\n",
       "      <td>40625.68</td>\n",
       "      <td>42862.44</td>\n",
       "      <td>32281.852344</td>\n",
       "    </tr>\n",
       "    <tr>\n",
       "      <th>2024-01-04</th>\n",
       "      <td>42860.58</td>\n",
       "      <td>44800.00</td>\n",
       "      <td>42650.00</td>\n",
       "      <td>44193.29</td>\n",
       "      <td>18193.816844</td>\n",
       "    </tr>\n",
       "    <tr>\n",
       "      <th>2024-01-05</th>\n",
       "      <td>44198.35</td>\n",
       "      <td>44443.37</td>\n",
       "      <td>42450.00</td>\n",
       "      <td>44186.59</td>\n",
       "      <td>18073.095615</td>\n",
       "    </tr>\n",
       "    <tr>\n",
       "      <th>2024-01-06</th>\n",
       "      <td>44187.76</td>\n",
       "      <td>44260.95</td>\n",
       "      <td>43436.50</td>\n",
       "      <td>43992.44</td>\n",
       "      <td>5691.434603</td>\n",
       "    </tr>\n",
       "  </tbody>\n",
       "</table>\n",
       "</div>"
      ],
      "text/plain": [
       "                open      high       low     close        volume\n",
       "2024-01-02  44220.78  45925.82  44195.13  44972.80  29583.384077\n",
       "2024-01-03  44972.81  45519.32  40625.68  42862.44  32281.852344\n",
       "2024-01-04  42860.58  44800.00  42650.00  44193.29  18193.816844\n",
       "2024-01-05  44198.35  44443.37  42450.00  44186.59  18073.095615\n",
       "2024-01-06  44187.76  44260.95  43436.50  43992.44   5691.434603"
      ]
     },
     "execution_count": 28,
     "metadata": {},
     "output_type": "execute_result"
    }
   ],
   "source": [
    "btc_data.head()"
   ]
  },
  {
   "cell_type": "code",
   "execution_count": 29,
   "metadata": {},
   "outputs": [
    {
     "name": "stdout",
     "output_type": "stream",
     "text": [
      "Stock data:\n",
      "Date range: 1999-11-12 00:00:00 to 2024-12-09 00:00:00\n",
      "Frequency: None\n",
      "\n",
      "Bitcoin data:\n",
      "Date range: 2024-01-02 00:00:00 to 2024-12-16 00:00:00\n",
      "Frequency: None\n",
      "\n",
      "Merged Dataset Info:\n",
      "Shape: (50, 4)\n",
      "\n",
      "Columns: ['stock_close', 'stock_volume', 'btc_close', 'btc_volume']\n",
      "\n",
      "Sample of merged data:\n",
      "            stock_close  stock_volume  btc_close    btc_volume\n",
      "2024-01-05        37.75     159935426   44186.59  18073.095615\n",
      "2024-01-12        37.60     202909146   42773.03  46862.433472\n",
      "2024-01-19        37.93     184240630   41624.07  22745.552712\n",
      "2024-01-26        38.65     231268516   41814.80  19359.379211\n",
      "2024-02-02        38.98     278409760   43181.66  12202.241259\n",
      "\n",
      "Missing values:\n",
      "stock_close     0\n",
      "stock_volume    0\n",
      "btc_close       0\n",
      "btc_volume      0\n",
      "dtype: int64\n"
     ]
    }
   ],
   "source": [
    "# Check the date ranges and frequency \n",
    "print(\"Stock data:\")\n",
    "print(\"Date range:\", stock_data.index.min(), \"to\", stock_data.index.max())\n",
    "print(\"Frequency:\", stock_data.index.freq)\n",
    "print(\"\\nBitcoin data:\")\n",
    "print(\"Date range:\", btc_data.index.min(), \"to\", btc_data.index.max())\n",
    "print(\"Frequency:\", btc_data.index.freq)\n",
    "\n",
    "start_date = max(stock_data.index.min(), btc_data.index.min())\n",
    "end_date = min(stock_data.index.max(), btc_data.index.max())\n",
    "\n",
    "# Getting datasets to the same date range\n",
    "stock_data_trimmed = stock_data.loc[start_date:end_date]\n",
    "btc_data_trimmed = btc_data.loc[start_date:end_date]\n",
    "\n",
    "\n",
    "stock_cols = ['close', 'volume']  \n",
    "btc_cols = ['close', 'volume']    \n",
    "\n",
    "stock_data_final = stock_data_trimmed[stock_cols]\n",
    "btc_data_final = btc_data_trimmed[btc_cols]\n",
    "\n",
    "# Renaming columns\n",
    "stock_data_final = stock_data_final.add_prefix('stock_')\n",
    "btc_data_final = btc_data_final.add_prefix('btc_')\n",
    "\n",
    "# Merge \n",
    "merged_data = pd.merge(\n",
    "    stock_data_final,\n",
    "    btc_data_final,\n",
    "    left_index=True,\n",
    "    right_index=True,\n",
    "    how='inner'\n",
    ")\n",
    "\n",
    "# Check \n",
    "print(\"\\nMerged Dataset Info:\")\n",
    "print(\"Shape:\", merged_data.shape)\n",
    "print(\"\\nColumns:\", merged_data.columns.tolist())\n",
    "print(\"\\nSample of merged data:\")\n",
    "print(merged_data.head())\n",
    "print(\"\\nMissing values:\")\n",
    "print(merged_data.isnull().sum())\n",
    "\n"
   ]
  },
  {
   "cell_type": "code",
   "execution_count": 30,
   "metadata": {},
   "outputs": [
    {
     "name": "stdout",
     "output_type": "stream",
     "text": [
      "Merged Dataset Overview:\n",
      "Total rows: 50\n",
      "Date range: 2024-01-05 00:00:00 to 2024-12-09 00:00:00\n",
      "\n",
      "Columns: ['stock_close', 'stock_volume', 'btc_close', 'btc_volume']\n",
      "\n",
      "Basic Statistics:\n",
      "       stock_close  stock_volume     btc_close    btc_volume\n",
      "count    50.000000  5.000000e+01     50.000000     50.000000\n",
      "mean     43.063200  1.937292e+08  64701.786000  16743.031887\n",
      "std       3.590966  5.539395e+07  13599.430015   7976.251986\n",
      "min      37.600000  4.106350e+07  41624.070000   7884.218318\n",
      "25%      40.627500  1.608324e+08  59412.915000  11513.386912\n",
      "50%      41.945000  1.849176e+08  63831.465000  14824.274996\n",
      "75%      45.525000  2.264907e+08  68197.890000  19143.397069\n",
      "max      51.340000  3.613886e+08  99891.350000  46862.433472\n",
      "\n",
      "Number of missing values per column:\n",
      "stock_close     0\n",
      "stock_volume    0\n",
      "btc_close       0\n",
      "btc_volume      0\n",
      "dtype: int64\n"
     ]
    }
   ],
   "source": [
    "# Verifing merged dataset\n",
    "print(\"Merged Dataset Overview:\")\n",
    "print(\"Total rows:\", len(merged_data))\n",
    "print(\"Date range:\", merged_data.index.min(), \"to\", merged_data.index.max())\n",
    "print(\"\\nColumns:\", merged_data.columns.tolist())\n",
    "\n",
    "print(\"\\nBasic Statistics:\")\n",
    "print(merged_data.describe())\n",
    "\n",
    "print(\"\\nNumber of missing values per column:\")\n",
    "print(merged_data.isnull().sum())"
   ]
  },
  {
   "cell_type": "code",
   "execution_count": 31,
   "metadata": {},
   "outputs": [
    {
     "data": {
      "text/html": [
       "<div>\n",
       "<style scoped>\n",
       "    .dataframe tbody tr th:only-of-type {\n",
       "        vertical-align: middle;\n",
       "    }\n",
       "\n",
       "    .dataframe tbody tr th {\n",
       "        vertical-align: top;\n",
       "    }\n",
       "\n",
       "    .dataframe thead th {\n",
       "        text-align: right;\n",
       "    }\n",
       "</style>\n",
       "<table border=\"1\" class=\"dataframe\">\n",
       "  <thead>\n",
       "    <tr style=\"text-align: right;\">\n",
       "      <th></th>\n",
       "      <th>stock_close</th>\n",
       "      <th>stock_volume</th>\n",
       "      <th>btc_close</th>\n",
       "      <th>btc_volume</th>\n",
       "    </tr>\n",
       "  </thead>\n",
       "  <tbody>\n",
       "    <tr>\n",
       "      <th>2024-01-05</th>\n",
       "      <td>37.75</td>\n",
       "      <td>159935426</td>\n",
       "      <td>44186.59</td>\n",
       "      <td>18073.095615</td>\n",
       "    </tr>\n",
       "    <tr>\n",
       "      <th>2024-01-12</th>\n",
       "      <td>37.60</td>\n",
       "      <td>202909146</td>\n",
       "      <td>42773.03</td>\n",
       "      <td>46862.433472</td>\n",
       "    </tr>\n",
       "    <tr>\n",
       "      <th>2024-01-19</th>\n",
       "      <td>37.93</td>\n",
       "      <td>184240630</td>\n",
       "      <td>41624.07</td>\n",
       "      <td>22745.552712</td>\n",
       "    </tr>\n",
       "    <tr>\n",
       "      <th>2024-01-26</th>\n",
       "      <td>38.65</td>\n",
       "      <td>231268516</td>\n",
       "      <td>41814.80</td>\n",
       "      <td>19359.379211</td>\n",
       "    </tr>\n",
       "    <tr>\n",
       "      <th>2024-02-02</th>\n",
       "      <td>38.98</td>\n",
       "      <td>278409760</td>\n",
       "      <td>43181.66</td>\n",
       "      <td>12202.241259</td>\n",
       "    </tr>\n",
       "  </tbody>\n",
       "</table>\n",
       "</div>"
      ],
      "text/plain": [
       "            stock_close  stock_volume  btc_close    btc_volume\n",
       "2024-01-05        37.75     159935426   44186.59  18073.095615\n",
       "2024-01-12        37.60     202909146   42773.03  46862.433472\n",
       "2024-01-19        37.93     184240630   41624.07  22745.552712\n",
       "2024-01-26        38.65     231268516   41814.80  19359.379211\n",
       "2024-02-02        38.98     278409760   43181.66  12202.241259"
      ]
     },
     "execution_count": 31,
     "metadata": {},
     "output_type": "execute_result"
    }
   ],
   "source": [
    "merged_data.head()"
   ]
  },
  {
   "cell_type": "code",
   "execution_count": 32,
   "metadata": {},
   "outputs": [
    {
     "name": "stdout",
     "output_type": "stream",
     "text": [
      "Bitcoin data starts from: 2024-01-02 00:00:00\n"
     ]
    },
    {
     "data": {
      "image/png": "[encoded data removed]",
      "text/plain": [
       "<Figure size 1500x800 with 2 Axes>"
      ]
     },
     "metadata": {},
     "output_type": "display_data"
    },
    {
     "data": {
      "image/png": "[encoded data removed]",
      "text/plain": [
       "<Figure size 1500x800 with 1 Axes>"
      ]
     },
     "metadata": {},
     "output_type": "display_data"
    }
   ],
   "source": [
    "\n",
    "import matplotlib.pyplot as plt\n",
    "\n",
    "# Bitcoin's start date\n",
    "btc_start_date = btc_data.index.min()\n",
    "print(f\"Bitcoin data starts from: {btc_start_date}\")\n",
    "\n",
    "# Filter both datasets to start from Bitcoin's start date\n",
    "merged_data_full = merged_data[btc_start_date:]\n",
    "\n",
    "# Create figure\n",
    "fig, ax1 = plt.subplots(figsize=(15, 8))\n",
    "\n",
    "# Plotting\n",
    "color = 'tab:blue'\n",
    "ax1.set_xlabel('Date')\n",
    "ax1.set_ylabel('Financial Select Price ($)', color=color)\n",
    "line1 = ax1.plot(merged_data_full.index, merged_data_full['stock_close'], color=color, label='Financial Select')\n",
    "ax1.tick_params(axis='y', labelcolor=color)\n",
    "\n",
    "# second y-axis \n",
    "ax2 = ax1.twinx()\n",
    "\n",
    "# Plot Bitcoin \n",
    "color = 'tab:orange'\n",
    "ax2.set_ylabel('Bitcoin Price ($)', color=color)\n",
    "line2 = ax2.plot(merged_data_full.index, merged_data_full['btc_close'], color=color, label='Bitcoin')\n",
    "ax2.tick_params(axis='y', labelcolor=color)\n",
    "\n",
    "# Labeling\n",
    "plt.title('Bitcoin vs Financial Select Sector SPDR Fund Price Comparison\\n(From Bitcoin\\'s Earliest Available Data)', pad=20)\n",
    "\n",
    "lines1, labels1 = ax1.get_legend_handles_labels()\n",
    "lines2, labels2 = ax2.get_legend_handles_labels()\n",
    "ax1.legend(lines1 + lines2, labels1 + labels2, loc='upper left')\n",
    "\n",
    "# Rotate x-axis \n",
    "plt.xticks(rotation=45)\n",
    "\n",
    "# Adjust layout \n",
    "plt.tight_layout()\n",
    "plt.show()\n",
    "\n",
    "fig, ax = plt.subplots(figsize=(15, 8))\n",
    "\n",
    "stock_norm = merged_data_full['stock_close'] / merged_data_full['stock_close'].iloc[0] * 100\n",
    "btc_norm = merged_data_full['btc_close'] / merged_data_full['btc_close'].iloc[0] * 100\n",
    "\n",
    "# Plot both normalized sets\n",
    "ax.plot(merged_data_full.index, stock_norm, label='Financial Select', color='blue')\n",
    "ax.plot(merged_data_full.index, btc_norm, label='Bitcoin', color='orange')\n",
    "\n",
    "ax.set_xlabel('Date')\n",
    "ax.set_ylabel('Normalized Price (Starting at 100)')\n",
    "ax.set_title('Normalized Price Comparison\\n(Starting from Bitcoin\\'s Earliest Available Data)')\n",
    "ax.legend()\n",
    "\n",
    "plt.xticks(rotation=45)\n",
    "plt.grid(True, alpha=0.3)\n",
    "plt.tight_layout()\n",
    "plt.show()\n",
    "\n",
    "##Just for first impression of what the data looks like visually"
   ]
  },
  {
   "cell_type": "code",
   "execution_count": 36,
   "metadata": {},
   "outputs": [
    {
     "name": "stderr",
     "output_type": "stream",
     "text": [
      "/var/folders/_2/0tp5kryn7ddcz69938ds6z31883_rp/T/ipykernel_6580/1939925319.py:74: UserWarning: This figure includes Axes that are not compatible with tight_layout, so results might be incorrect.\n",
      "  plt.tight_layout()\n"
     ]
    },
    {
     "data": {
      "image/png": "[encoded data removed]",
      "text/plain": [
       "<Figure size 1500x1000 with 6 Axes>"
      ]
     },
     "metadata": {},
     "output_type": "display_data"
    }
   ],
   "source": [
    "import mplfinance as mpf\n",
    "import numpy as np\n",
    "\n",
    "# Calculated Bitcoin's daily volatility\n",
    "btc_data_full = merged_data_full.copy()\n",
    "btc_data_full['btc_volatility'] = merged_data_full['btc_close'].pct_change().rolling(window=5).std() * 100\n",
    "\n",
    "# Create OHLC data for Bitcoin\n",
    "bitcoin_ohlc = pd.DataFrame({\n",
    "    'Open': btc_data_full['btc_close'].shift(1),\n",
    "    'High': btc_data_full['btc_close'] * 1.02, \n",
    "    'Low': btc_data_full['btc_close'] * 0.98,\n",
    "    'Close': btc_data_full['btc_close'],\n",
    "    'Volume': btc_data_full['btc_volume']\n",
    "})\n",
    "\n",
    "bitcoin_ohlc = bitcoin_ohlc.dropna()\n",
    "\n",
    "# Make sure other data matches the OHLC data\n",
    "btc_data_full = btc_data_full.loc[bitcoin_ohlc.index]\n",
    "merged_data_full = merged_data_full.loc[bitcoin_ohlc.index]\n",
    "\n",
    "mc = mpf.make_marketcolors(\n",
    "    up='forestgreen',\n",
    "    down='crimson',\n",
    "    edge='inherit',\n",
    "    wick='inherit',\n",
    "    volume='tab:blue',  # Set volume color here instead\n",
    "    ohlc='inherit'\n",
    ")\n",
    "\n",
    "s = mpf.make_mpf_style(\n",
    "    marketcolors=mc,\n",
    "    gridstyle='dotted',\n",
    "    y_on_right=False,\n",
    "    figcolor='white'\n",
    ")\n",
    "\n",
    "fig, axes = mpf.plot(\n",
    "    bitcoin_ohlc,\n",
    "    type='candle',\n",
    "    style=s,\n",
    "    volume=True,\n",
    "    figsize=(15, 10),\n",
    "    panel_ratios=(6,2,2),\n",
    "    returnfig=True,\n",
    "    title='\\nBitcoin Price Action with Financial Select Sector SPDR Fund Comparison\\n',\n",
    "    datetime_format='%Y-%m-%d',\n",
    "    xrotation=45,\n",
    "    addplot=[\n",
    "        mpf.make_addplot(btc_data_full['btc_volatility'], panel=2, color='purple', \n",
    "                        title='Rolling Volatility'),\n",
    "        mpf.make_addplot(merged_data_full['stock_close'], panel=0, color='royalblue', \n",
    "                        secondary_y=True, ylabel='Financial Select Price ($)')\n",
    "    ]\n",
    ")\n",
    "\n",
    "axes[0].set_ylabel('Bitcoin Price ($)')\n",
    "axes[2].set_ylabel('5-day Rolling Volatility %')\n",
    "axes[1].set_ylabel('Trading Volume')\n",
    "\n",
    "axes[0].legend(['Financial Select SPDR Fund (XLF)', 'Bitcoin'], \n",
    "              loc='upper left', \n",
    "              bbox_to_anchor=(0.01, 0.99))\n",
    "\n",
    "plt.tight_layout()\n",
    "plt.show()\n",
    "\n",
    "#MLPFINANCE was just for experimental purpose. first time messing with it."
   ]
  },
  {
   "cell_type": "markdown",
   "metadata": {},
   "source": [
    "^^simple volatilty candle plot "
   ]
  },
  {
   "cell_type": "code",
   "execution_count": 48,
   "metadata": {},
   "outputs": [
    {
     "data": {
      "application/vnd.plotly.v1+json": {
       "config": {
        "plotlyServerURL": "https://plot.ly"
       },
       "data": [
        {
         "hovertemplate": "%{x|%Y-%m-%d}<br>%{y:$.2f}<extra>Bitcoin Price</extra>",
         "line": {
          "color": "orange",
          "width": 2
         },
         "mode": "lines",
         "name": "Bitcoin Price",
         "type": "scatter",
         "x": [
          "2024-02-02T00:00:00",
          "2024-02-09T00:00:00",
          "2024-02-16T00:00:00",
          "2024-02-23T00:00:00",
          "2024-03-01T00:00:00",
          "2024-03-08T00:00:00",
          "2024-03-15T00:00:00",
          "2024-03-22T00:00:00",
          "2024-03-28T00:00:00",
          "2024-04-05T00:00:00",
          "2024-04-12T00:00:00",
          "2024-04-19T00:00:00",
          "2024-04-26T00:00:00",
          "2024-05-03T00:00:00",
          "2024-05-10T00:00:00",
          "2024-05-17T00:00:00",
          "2024-05-24T00:00:00",
          "2024-05-31T00:00:00",
          "2024-06-07T00:00:00",
          "2024-06-14T00:00:00",
          "2024-06-21T00:00:00",
          "2024-06-28T00:00:00",
          "2024-07-05T00:00:00",
          "2024-07-12T00:00:00",
          "2024-07-19T00:00:00",
          "2024-07-26T00:00:00",
          "2024-08-02T00:00:00",
          "2024-08-09T00:00:00",
          "2024-08-16T00:00:00",
          "2024-08-23T00:00:00",
          "2024-08-30T00:00:00",
          "2024-09-06T00:00:00",
          "2024-09-13T00:00:00",
          "2024-09-20T00:00:00",
          "2024-09-27T00:00:00",
          "2024-10-04T00:00:00",
          "2024-10-11T00:00:00",
          "2024-10-18T00:00:00",
          "2024-10-25T00:00:00",
          "2024-11-01T00:00:00",
          "2024-11-08T00:00:00",
          "2024-11-15T00:00:00",
          "2024-11-22T00:00:00",
          "2024-11-29T00:00:00",
          "2024-12-06T00:00:00",
          "2024-12-09T00:00:00"
         ],
         "xaxis": "x",
         "y": [
          43181.66,
          47160.41,
          52162.64,
          50747.05,
          62436.72,
          68289.16,
          69506.88,
          63814.56,
          70801.18,
          67856.51,
          67148.61,
          63848.37,
          63742.39,
          62913.03,
          60787.47,
          67046.33,
          68547.8,
          67472.41,
          69324.53,
          66004.39,
          64120.28,
          60313.35,
          56639.43,
          57909.03,
          66707.61,
          67924.08,
          61418.06,
          60862.13,
          58888.99,
          64086.72,
          59112.77,
          53950.01,
          60543.35,
          63210.69,
          65789,
          62090.71,
          62518.75,
          68426.11,
          66564.51,
          69467.29,
          76566.73,
          91058.36,
          99024.03,
          97490.56,
          99891.35,
          97324.81
         ],
         "yaxis": "y"
        },
        {
         "hovertemplate": "%{x|%Y-%m-%d}<br>%{y:$.2f}<extra>SPDR Fund Price</extra>",
         "line": {
          "color": "royalblue",
          "width": 2
         },
         "mode": "lines",
         "name": "SPDR Fund Price",
         "type": "scatter",
         "x": [
          "2024-02-02T00:00:00",
          "2024-02-09T00:00:00",
          "2024-02-16T00:00:00",
          "2024-02-23T00:00:00",
          "2024-03-01T00:00:00",
          "2024-03-08T00:00:00",
          "2024-03-15T00:00:00",
          "2024-03-22T00:00:00",
          "2024-03-28T00:00:00",
          "2024-04-05T00:00:00",
          "2024-04-12T00:00:00",
          "2024-04-19T00:00:00",
          "2024-04-26T00:00:00",
          "2024-05-03T00:00:00",
          "2024-05-10T00:00:00",
          "2024-05-17T00:00:00",
          "2024-05-24T00:00:00",
          "2024-05-31T00:00:00",
          "2024-06-07T00:00:00",
          "2024-06-14T00:00:00",
          "2024-06-21T00:00:00",
          "2024-06-28T00:00:00",
          "2024-07-05T00:00:00",
          "2024-07-12T00:00:00",
          "2024-07-19T00:00:00",
          "2024-07-26T00:00:00",
          "2024-08-02T00:00:00",
          "2024-08-09T00:00:00",
          "2024-08-16T00:00:00",
          "2024-08-23T00:00:00",
          "2024-08-30T00:00:00",
          "2024-09-06T00:00:00",
          "2024-09-13T00:00:00",
          "2024-09-20T00:00:00",
          "2024-09-27T00:00:00",
          "2024-10-04T00:00:00",
          "2024-10-11T00:00:00",
          "2024-10-18T00:00:00",
          "2024-10-25T00:00:00",
          "2024-11-01T00:00:00",
          "2024-11-08T00:00:00",
          "2024-11-15T00:00:00",
          "2024-11-22T00:00:00",
          "2024-11-29T00:00:00",
          "2024-12-06T00:00:00",
          "2024-12-09T00:00:00"
         ],
         "xaxis": "x",
         "y": [
          38.98,
          39.08,
          39.63,
          40.3,
          40.29,
          40.62,
          40.79,
          41.42,
          42.12,
          41.57,
          40.06,
          40.38,
          40.82,
          40.55,
          41.83,
          42.49,
          41.61,
          41.64,
          41.48,
          40.65,
          41.33,
          41.11,
          41.54,
          42.38,
          42.85,
          43.41,
          42.06,
          42.4,
          43.77,
          44.43,
          45.74,
          44.29,
          44.51,
          45.66,
          45.15,
          45.65,
          46.51,
          47.62,
          46.63,
          46.64,
          49.19,
          49.87,
          50.73,
          51.34,
          50.4,
          49.71
         ],
         "yaxis": "y2"
        },
        {
         "hovertemplate": "%{x|%Y-%m-%d}<br>%{y:,.0f}<extra>Bitcoin Volume</extra>",
         "line": {
          "color": "orange",
          "dash": "dot",
          "width": 1
         },
         "mode": "lines",
         "name": "Bitcoin Volume",
         "type": "scatter",
         "x": [
          "2024-02-02T00:00:00",
          "2024-02-09T00:00:00",
          "2024-02-16T00:00:00",
          "2024-02-23T00:00:00",
          "2024-03-01T00:00:00",
          "2024-03-08T00:00:00",
          "2024-03-15T00:00:00",
          "2024-03-22T00:00:00",
          "2024-03-28T00:00:00",
          "2024-04-05T00:00:00",
          "2024-04-12T00:00:00",
          "2024-04-19T00:00:00",
          "2024-04-26T00:00:00",
          "2024-05-03T00:00:00",
          "2024-05-10T00:00:00",
          "2024-05-17T00:00:00",
          "2024-05-24T00:00:00",
          "2024-05-31T00:00:00",
          "2024-06-07T00:00:00",
          "2024-06-14T00:00:00",
          "2024-06-21T00:00:00",
          "2024-06-28T00:00:00",
          "2024-07-05T00:00:00",
          "2024-07-12T00:00:00",
          "2024-07-19T00:00:00",
          "2024-07-26T00:00:00",
          "2024-08-02T00:00:00",
          "2024-08-09T00:00:00",
          "2024-08-16T00:00:00",
          "2024-08-23T00:00:00",
          "2024-08-30T00:00:00",
          "2024-09-06T00:00:00",
          "2024-09-13T00:00:00",
          "2024-09-20T00:00:00",
          "2024-09-27T00:00:00",
          "2024-10-04T00:00:00",
          "2024-10-11T00:00:00",
          "2024-10-18T00:00:00",
          "2024-10-25T00:00:00",
          "2024-11-01T00:00:00",
          "2024-11-08T00:00:00",
          "2024-11-15T00:00:00",
          "2024-11-22T00:00:00",
          "2024-11-29T00:00:00",
          "2024-12-06T00:00:00",
          "2024-12-09T00:00:00"
         ],
         "xaxis": "x2",
         "y": [
          12202.24125895,
          22108.85067543,
          13816.27351282,
          11679.16625824,
          24696.65692545,
          33749.52797544,
          40195.84231178,
          17807.65930238,
          15224.17928189,
          15515.82134206,
          23509.75554216,
          22838.07934159,
          10151.96247701,
          15954.29032707,
          11511.12990976,
          11710.00723895,
          10374.95988085,
          10690.85876224,
          13768.98185265,
          11520.15791899,
          9816.79599936,
          11381.0258738,
          28052.41501655,
          10516.60400149,
          15163.05745737,
          9315.20918753,
          15390.00963957,
          11569.80744379,
          11930.21788221,
          17852.77117167,
          9382.9124508,
          18495.45064356,
          11935.95544754,
          10636.1082809,
          9529.0168808,
          7884.21831808,
          11454.9900534,
          11802.74441943,
          14485.49253537,
          15295.28781188,
          18378.39876264,
          20388.33115227,
          29936.62215019,
          12587.02498942,
          17801.21293952,
          20103.05073464
         ],
         "yaxis": "y3"
        },
        {
         "hovertemplate": "%{x|%Y-%m-%d}<br>%{y:,.0f}<extra>SPDR Volume</extra>",
         "line": {
          "color": "royalblue",
          "dash": "dot",
          "width": 1
         },
         "mode": "lines",
         "name": "SPDR Volume",
         "type": "scatter",
         "x": [
          "2024-02-02T00:00:00",
          "2024-02-09T00:00:00",
          "2024-02-16T00:00:00",
          "2024-02-23T00:00:00",
          "2024-03-01T00:00:00",
          "2024-03-08T00:00:00",
          "2024-03-15T00:00:00",
          "2024-03-22T00:00:00",
          "2024-03-28T00:00:00",
          "2024-04-05T00:00:00",
          "2024-04-12T00:00:00",
          "2024-04-19T00:00:00",
          "2024-04-26T00:00:00",
          "2024-05-03T00:00:00",
          "2024-05-10T00:00:00",
          "2024-05-17T00:00:00",
          "2024-05-24T00:00:00",
          "2024-05-31T00:00:00",
          "2024-06-07T00:00:00",
          "2024-06-14T00:00:00",
          "2024-06-21T00:00:00",
          "2024-06-28T00:00:00",
          "2024-07-05T00:00:00",
          "2024-07-12T00:00:00",
          "2024-07-19T00:00:00",
          "2024-07-26T00:00:00",
          "2024-08-02T00:00:00",
          "2024-08-09T00:00:00",
          "2024-08-16T00:00:00",
          "2024-08-23T00:00:00",
          "2024-08-30T00:00:00",
          "2024-09-06T00:00:00",
          "2024-09-13T00:00:00",
          "2024-09-20T00:00:00",
          "2024-09-27T00:00:00",
          "2024-10-04T00:00:00",
          "2024-10-11T00:00:00",
          "2024-10-18T00:00:00",
          "2024-10-25T00:00:00",
          "2024-11-01T00:00:00",
          "2024-11-08T00:00:00",
          "2024-11-15T00:00:00",
          "2024-11-22T00:00:00",
          "2024-11-29T00:00:00",
          "2024-12-06T00:00:00",
          "2024-12-09T00:00:00"
         ],
         "xaxis": "x2",
         "y": [
          278409760,
          215437673,
          257631396,
          177590002,
          199434876,
          245414619,
          265475557,
          209386449,
          140079922,
          209749727,
          283664634,
          284520881,
          207309884,
          207892978,
          179229290,
          162192592,
          183039936,
          143061837,
          170572076,
          201184634,
          160379003,
          185594542,
          105698556,
          174245582,
          259528804,
          178156580,
          230969836,
          274594338,
          134772240,
          121159604,
          132720309,
          162255492,
          230175002,
          201897940,
          159174968,
          157993176,
          170674171,
          203284352,
          122067462,
          181608092,
          361388623,
          233041993,
          181026615,
          122892643,
          200463927,
          41063495
         ],
         "yaxis": "y4"
        },
        {
         "hovertemplate": "%{x|%Y-%m-%d}<br>%{y:.2f}%<extra>Bitcoin Volatility</extra>",
         "line": {
          "color": "orange",
          "width": 1
         },
         "mode": "lines",
         "name": "Bitcoin Volatility",
         "type": "scatter",
         "x": [
          "2024-02-02T00:00:00",
          "2024-02-09T00:00:00",
          "2024-02-16T00:00:00",
          "2024-02-23T00:00:00",
          "2024-03-01T00:00:00",
          "2024-03-08T00:00:00",
          "2024-03-15T00:00:00",
          "2024-03-22T00:00:00",
          "2024-03-28T00:00:00",
          "2024-04-05T00:00:00",
          "2024-04-12T00:00:00",
          "2024-04-19T00:00:00",
          "2024-04-26T00:00:00",
          "2024-05-03T00:00:00",
          "2024-05-10T00:00:00",
          "2024-05-17T00:00:00",
          "2024-05-24T00:00:00",
          "2024-05-31T00:00:00",
          "2024-06-07T00:00:00",
          "2024-06-14T00:00:00",
          "2024-06-21T00:00:00",
          "2024-06-28T00:00:00",
          "2024-07-05T00:00:00",
          "2024-07-12T00:00:00",
          "2024-07-19T00:00:00",
          "2024-07-26T00:00:00",
          "2024-08-02T00:00:00",
          "2024-08-09T00:00:00",
          "2024-08-16T00:00:00",
          "2024-08-23T00:00:00",
          "2024-08-30T00:00:00",
          "2024-09-06T00:00:00",
          "2024-09-13T00:00:00",
          "2024-09-20T00:00:00",
          "2024-09-27T00:00:00",
          "2024-10-04T00:00:00",
          "2024-10-11T00:00:00",
          "2024-10-18T00:00:00",
          "2024-10-25T00:00:00",
          "2024-11-01T00:00:00",
          "2024-11-08T00:00:00",
          "2024-11-15T00:00:00",
          "2024-11-22T00:00:00",
          "2024-11-29T00:00:00",
          "2024-12-06T00:00:00",
          "2024-12-09T00:00:00"
         ],
         "xaxis": "x3",
         "y": [
          null,
          null,
          null,
          null,
          9.60687376024326,
          9.12261209923752,
          9.840011388017672,
          12.12047495420298,
          11.570722890878162,
          8.31017549592146,
          7.218267147391241,
          7.393364831104559,
          6.3707618744633265,
          2.0870620442113097,
          1.9387460380994384,
          5.984293879687659,
          5.299448639772683,
          5.447288950944548,
          5.269824200377061,
          5.65772682380822,
          3.2604192014983435,
          3.3747568861184782,
          3.6629370998913857,
          3.453200183379294,
          8.875196597979592,
          8.676127877172693,
          9.558702810826796,
          8.893317688762885,
          9.152657644240241,
          6.753007461422208,
          7.231161885664425,
          7.032542658837808,
          9.668822039739096,
          9.58041881291646,
          8.921532631946427,
          8.44420195479973,
          6.475319140456095,
          5.558736343083215,
          5.884172784350302,
          5.9201979174404675,
          5.56406820916048,
          7.977867857092642,
          7.953194608720492,
          7.569689777233002,
          7.849145370985809,
          8.86582803001041
         ],
         "yaxis": "y5"
        },
        {
         "hovertemplate": "%{x|%Y-%m-%d}<br>%{y:.2f}%<extra>SPDR Volatility</extra>",
         "line": {
          "color": "royalblue",
          "width": 1
         },
         "mode": "lines",
         "name": "SPDR Volatility",
         "type": "scatter",
         "x": [
          "2024-02-02T00:00:00",
          "2024-02-09T00:00:00",
          "2024-02-16T00:00:00",
          "2024-02-23T00:00:00",
          "2024-03-01T00:00:00",
          "2024-03-08T00:00:00",
          "2024-03-15T00:00:00",
          "2024-03-22T00:00:00",
          "2024-03-28T00:00:00",
          "2024-04-05T00:00:00",
          "2024-04-12T00:00:00",
          "2024-04-19T00:00:00",
          "2024-04-26T00:00:00",
          "2024-05-03T00:00:00",
          "2024-05-10T00:00:00",
          "2024-05-17T00:00:00",
          "2024-05-24T00:00:00",
          "2024-05-31T00:00:00",
          "2024-06-07T00:00:00",
          "2024-06-14T00:00:00",
          "2024-06-21T00:00:00",
          "2024-06-28T00:00:00",
          "2024-07-05T00:00:00",
          "2024-07-12T00:00:00",
          "2024-07-19T00:00:00",
          "2024-07-26T00:00:00",
          "2024-08-02T00:00:00",
          "2024-08-09T00:00:00",
          "2024-08-16T00:00:00",
          "2024-08-23T00:00:00",
          "2024-08-30T00:00:00",
          "2024-09-06T00:00:00",
          "2024-09-13T00:00:00",
          "2024-09-20T00:00:00",
          "2024-09-27T00:00:00",
          "2024-10-04T00:00:00",
          "2024-10-11T00:00:00",
          "2024-10-18T00:00:00",
          "2024-10-25T00:00:00",
          "2024-11-01T00:00:00",
          "2024-11-08T00:00:00",
          "2024-11-15T00:00:00",
          "2024-11-22T00:00:00",
          "2024-11-29T00:00:00",
          "2024-12-06T00:00:00",
          "2024-12-09T00:00:00"
         ],
         "xaxis": "x3",
         "y": [
          null,
          null,
          null,
          null,
          null,
          0.7303653952368463,
          0.7016111155212366,
          0.7303428790807632,
          0.7301691824986395,
          1.2028742700368376,
          2.235285771583166,
          2.270215679655122,
          2.1915385414885358,
          1.8978887916611171,
          2.515387553470892,
          1.379204083213628,
          2.0283161333221877,
          2.0202332093102084,
          1.9868431639153927,
          1.5297393267692554,
          1.5631750101669954,
          1.3194094257473237,
          1.4421622132083594,
          1.6803196317003417,
          0.979697788189926,
          0.9354732719673883,
          2.041143310335681,
          2.027240373981711,
          2.3164847375225746,
          2.3421472873926255,
          2.5460974058711834,
          2.5708728974715713,
          2.5824065682466633,
          2.4558721598476394,
          2.564461935949529,
          2.204748200331547,
          1.4173255362569221,
          1.5020357398126583,
          1.942206591802767,
          1.7740325852620868,
          2.8134636273331695,
          2.8068953419414284,
          2.766147433452941,
          2.062941108949916,
          2.5955952498388375,
          1.681606568243098
         ],
         "yaxis": "y6"
        }
       ],
       "layout": {
        "annotations": [
         {
          "font": {
           "size": 16
          },
          "showarrow": false,
          "text": "Price Comparison",
          "x": 0.47,
          "xanchor": "center",
          "xref": "paper",
          "y": 1,
          "yanchor": "bottom",
          "yref": "paper"
         },
         {
          "font": {
           "size": 16
          },
          "showarrow": false,
          "text": "Trading Volume",
          "x": 0.47,
          "xanchor": "center",
          "xref": "paper",
          "y": 0.41000000000000003,
          "yanchor": "bottom",
          "yref": "paper"
         },
         {
          "font": {
           "size": 16
          },
          "showarrow": false,
          "text": "Volatility",
          "x": 0.47,
          "xanchor": "center",
          "xref": "paper",
          "y": 0.18000000000000002,
          "yanchor": "bottom",
          "yref": "paper"
         }
        ],
        "height": 1000,
        "hovermode": "x unified",
        "legend": {
         "x": 0.01,
         "xanchor": "left",
         "y": 0.99,
         "yanchor": "top"
        },
        "paper_bgcolor": "white",
        "plot_bgcolor": "white",
        "showlegend": true,
        "template": {
         "data": {
          "bar": [
           {
            "error_x": {
             "color": "#2a3f5f"
            },
            "error_y": {
             "color": "#2a3f5f"
            },
            "marker": {
             "line": {
              "color": "#E5ECF6",
              "width": 0.5
             },
             "pattern": {
              "fillmode": "overlay",
              "size": 10,
              "solidity": 0.2
             }
            },
            "type": "bar"
           }
          ],
          "barpolar": [
           {
            "marker": {
             "line": {
              "color": "#E5ECF6",
              "width": 0.5
             },
             "pattern": {
              "fillmode": "overlay",
              "size": 10,
              "solidity": 0.2
             }
            },
            "type": "barpolar"
           }
          ],
          "carpet": [
           {
            "aaxis": {
             "endlinecolor": "#2a3f5f",
             "gridcolor": "white",
             "linecolor": "white",
             "minorgridcolor": "white",
             "startlinecolor": "#2a3f5f"
            },
            "baxis": {
             "endlinecolor": "#2a3f5f",
             "gridcolor": "white",
             "linecolor": "white",
             "minorgridcolor": "white",
             "startlinecolor": "#2a3f5f"
            },
            "type": "carpet"
           }
          ],
          "choropleth": [
           {
            "colorbar": {
             "outlinewidth": 0,
             "ticks": ""
            },
            "type": "choropleth"
           }
          ],
          "contour": [
           {
            "colorbar": {
             "outlinewidth": 0,
             "ticks": ""
            },
            "colorscale": [
             [
              0,
              "#0d0887"
             ],
             [
              0.1111111111111111,
              "#46039f"
             ],
             [
              0.2222222222222222,
              "#7201a8"
             ],
             [
              0.3333333333333333,
              "#9c179e"
             ],
             [
              0.4444444444444444,
              "#bd3786"
             ],
             [
              0.5555555555555556,
              "#d8576b"
             ],
             [
              0.6666666666666666,
              "#ed7953"
             ],
             [
              0.7777777777777778,
              "#fb9f3a"
             ],
             [
              0.8888888888888888,
              "#fdca26"
             ],
             [
              1,
              "#f0f921"
             ]
            ],
            "type": "contour"
           }
          ],
          "contourcarpet": [
           {
            "colorbar": {
             "outlinewidth": 0,
             "ticks": ""
            },
            "type": "contourcarpet"
           }
          ],
          "heatmap": [
           {
            "colorbar": {
             "outlinewidth": 0,
             "ticks": ""
            },
            "colorscale": [
             [
              0,
              "#0d0887"
             ],
             [
              0.1111111111111111,
              "#46039f"
             ],
             [
              0.2222222222222222,
              "#7201a8"
             ],
             [
              0.3333333333333333,
              "#9c179e"
             ],
             [
              0.4444444444444444,
              "#bd3786"
             ],
             [
              0.5555555555555556,
              "#d8576b"
             ],
             [
              0.6666666666666666,
              "#ed7953"
             ],
             [
              0.7777777777777778,
              "#fb9f3a"
             ],
             [
              0.8888888888888888,
              "#fdca26"
             ],
             [
              1,
              "#f0f921"
             ]
            ],
            "type": "heatmap"
           }
          ],
          "heatmapgl": [
           {
            "colorbar": {
             "outlinewidth": 0,
             "ticks": ""
            },
            "colorscale": [
             [
              0,
              "#0d0887"
             ],
             [
              0.1111111111111111,
              "#46039f"
             ],
             [
              0.2222222222222222,
              "#7201a8"
             ],
             [
              0.3333333333333333,
              "#9c179e"
             ],
             [
              0.4444444444444444,
              "#bd3786"
             ],
             [
              0.5555555555555556,
              "#d8576b"
             ],
             [
              0.6666666666666666,
              "#ed7953"
             ],
             [
              0.7777777777777778,
              "#fb9f3a"
             ],
             [
              0.8888888888888888,
              "#fdca26"
             ],
             [
              1,
              "#f0f921"
             ]
            ],
            "type": "heatmapgl"
           }
          ],
          "histogram": [
           {
            "marker": {
             "pattern": {
              "fillmode": "overlay",
              "size": 10,
              "solidity": 0.2
             }
            },
            "type": "histogram"
           }
          ],
          "histogram2d": [
           {
            "colorbar": {
             "outlinewidth": 0,
             "ticks": ""
            },
            "colorscale": [
             [
              0,
              "#0d0887"
             ],
             [
              0.1111111111111111,
              "#46039f"
             ],
             [
              0.2222222222222222,
              "#7201a8"
             ],
             [
              0.3333333333333333,
              "#9c179e"
             ],
             [
              0.4444444444444444,
              "#bd3786"
             ],
             [
              0.5555555555555556,
              "#d8576b"
             ],
             [
              0.6666666666666666,
              "#ed7953"
             ],
             [
              0.7777777777777778,
              "#fb9f3a"
             ],
             [
              0.8888888888888888,
              "#fdca26"
             ],
             [
              1,
              "#f0f921"
             ]
            ],
            "type": "histogram2d"
           }
          ],
          "histogram2dcontour": [
           {
            "colorbar": {
             "outlinewidth": 0,
             "ticks": ""
            },
            "colorscale": [
             [
              0,
              "#0d0887"
             ],
             [
              0.1111111111111111,
              "#46039f"
             ],
             [
              0.2222222222222222,
              "#7201a8"
             ],
             [
              0.3333333333333333,
              "#9c179e"
             ],
             [
              0.4444444444444444,
              "#bd3786"
             ],
             [
              0.5555555555555556,
              "#d8576b"
             ],
             [
              0.6666666666666666,
              "#ed7953"
             ],
             [
              0.7777777777777778,
              "#fb9f3a"
             ],
             [
              0.8888888888888888,
              "#fdca26"
             ],
             [
              1,
              "#f0f921"
             ]
            ],
            "type": "histogram2dcontour"
           }
          ],
          "mesh3d": [
           {
            "colorbar": {
             "outlinewidth": 0,
             "ticks": ""
            },
            "type": "mesh3d"
           }
          ],
          "parcoords": [
           {
            "line": {
             "colorbar": {
              "outlinewidth": 0,
              "ticks": ""
             }
            },
            "type": "parcoords"
           }
          ],
          "pie": [
           {
            "automargin": true,
            "type": "pie"
           }
          ],
          "scatter": [
           {
            "fillpattern": {
             "fillmode": "overlay",
             "size": 10,
             "solidity": 0.2
            },
            "type": "scatter"
           }
          ],
          "scatter3d": [
           {
            "line": {
             "colorbar": {
              "outlinewidth": 0,
              "ticks": ""
             }
            },
            "marker": {
             "colorbar": {
              "outlinewidth": 0,
              "ticks": ""
             }
            },
            "type": "scatter3d"
           }
          ],
          "scattercarpet": [
           {
            "marker": {
             "colorbar": {
              "outlinewidth": 0,
              "ticks": ""
             }
            },
            "type": "scattercarpet"
           }
          ],
          "scattergeo": [
           {
            "marker": {
             "colorbar": {
              "outlinewidth": 0,
              "ticks": ""
             }
            },
            "type": "scattergeo"
           }
          ],
          "scattergl": [
           {
            "marker": {
             "colorbar": {
              "outlinewidth": 0,
              "ticks": ""
             }
            },
            "type": "scattergl"
           }
          ],
          "scattermapbox": [
           {
            "marker": {
             "colorbar": {
              "outlinewidth": 0,
              "ticks": ""
             }
            },
            "type": "scattermapbox"
           }
          ],
          "scatterpolar": [
           {
            "marker": {
             "colorbar": {
              "outlinewidth": 0,
              "ticks": ""
             }
            },
            "type": "scatterpolar"
           }
          ],
          "scatterpolargl": [
           {
            "marker": {
             "colorbar": {
              "outlinewidth": 0,
              "ticks": ""
             }
            },
            "type": "scatterpolargl"
           }
          ],
          "scatterternary": [
           {
            "marker": {
             "colorbar": {
              "outlinewidth": 0,
              "ticks": ""
             }
            },
            "type": "scatterternary"
           }
          ],
          "surface": [
           {
            "colorbar": {
             "outlinewidth": 0,
             "ticks": ""
            },
            "colorscale": [
             [
              0,
              "#0d0887"
             ],
             [
              0.1111111111111111,
              "#46039f"
             ],
             [
              0.2222222222222222,
              "#7201a8"
             ],
             [
              0.3333333333333333,
              "#9c179e"
             ],
             [
              0.4444444444444444,
              "#bd3786"
             ],
             [
              0.5555555555555556,
              "#d8576b"
             ],
             [
              0.6666666666666666,
              "#ed7953"
             ],
             [
              0.7777777777777778,
              "#fb9f3a"
             ],
             [
              0.8888888888888888,
              "#fdca26"
             ],
             [
              1,
              "#f0f921"
             ]
            ],
            "type": "surface"
           }
          ],
          "table": [
           {
            "cells": {
             "fill": {
              "color": "#EBF0F8"
             },
             "line": {
              "color": "white"
             }
            },
            "header": {
             "fill": {
              "color": "#C8D4E3"
             },
             "line": {
              "color": "white"
             }
            },
            "type": "table"
           }
          ]
         },
         "layout": {
          "annotationdefaults": {
           "arrowcolor": "#2a3f5f",
           "arrowhead": 0,
           "arrowwidth": 1
          },
          "autotypenumbers": "strict",
          "coloraxis": {
           "colorbar": {
            "outlinewidth": 0,
            "ticks": ""
           }
          },
          "colorscale": {
           "diverging": [
            [
             0,
             "#8e0152"
            ],
            [
             0.1,
             "#c51b7d"
            ],
            [
             0.2,
             "#de77ae"
            ],
            [
             0.3,
             "#f1b6da"
            ],
            [
             0.4,
             "#fde0ef"
            ],
            [
             0.5,
             "#f7f7f7"
            ],
            [
             0.6,
             "#e6f5d0"
            ],
            [
             0.7,
             "#b8e186"
            ],
            [
             0.8,
             "#7fbc41"
            ],
            [
             0.9,
             "#4d9221"
            ],
            [
             1,
             "#276419"
            ]
           ],
           "sequential": [
            [
             0,
             "#0d0887"
            ],
            [
             0.1111111111111111,
             "#46039f"
            ],
            [
             0.2222222222222222,
             "#7201a8"
            ],
            [
             0.3333333333333333,
             "#9c179e"
            ],
            [
             0.4444444444444444,
             "#bd3786"
            ],
            [
             0.5555555555555556,
             "#d8576b"
            ],
            [
             0.6666666666666666,
             "#ed7953"
            ],
            [
             0.7777777777777778,
             "#fb9f3a"
            ],
            [
             0.8888888888888888,
             "#fdca26"
            ],
            [
             1,
             "#f0f921"
            ]
           ],
           "sequentialminus": [
            [
             0,
             "#0d0887"
            ],
            [
             0.1111111111111111,
             "#46039f"
            ],
            [
             0.2222222222222222,
             "#7201a8"
            ],
            [
             0.3333333333333333,
             "#9c179e"
            ],
            [
             0.4444444444444444,
             "#bd3786"
            ],
            [
             0.5555555555555556,
             "#d8576b"
            ],
            [
             0.6666666666666666,
             "#ed7953"
            ],
            [
             0.7777777777777778,
             "#fb9f3a"
            ],
            [
             0.8888888888888888,
             "#fdca26"
            ],
            [
             1,
             "#f0f921"
            ]
           ]
          },
          "colorway": [
           "#636efa",
           "#EF553B",
           "#00cc96",
           "#ab63fa",
           "#FFA15A",
           "#19d3f3",
           "#FF6692",
           "#B6E880",
           "#FF97FF",
           "#FECB52"
          ],
          "font": {
           "color": "#2a3f5f"
          },
          "geo": {
           "bgcolor": "white",
           "lakecolor": "white",
           "landcolor": "#E5ECF6",
           "showlakes": true,
           "showland": true,
           "subunitcolor": "white"
          },
          "hoverlabel": {
           "align": "left"
          },
          "hovermode": "closest",
          "mapbox": {
           "style": "light"
          },
          "paper_bgcolor": "white",
          "plot_bgcolor": "#E5ECF6",
          "polar": {
           "angularaxis": {
            "gridcolor": "white",
            "linecolor": "white",
            "ticks": ""
           },
           "bgcolor": "#E5ECF6",
           "radialaxis": {
            "gridcolor": "white",
            "linecolor": "white",
            "ticks": ""
           }
          },
          "scene": {
           "xaxis": {
            "backgroundcolor": "#E5ECF6",
            "gridcolor": "white",
            "gridwidth": 2,
            "linecolor": "white",
            "showbackground": true,
            "ticks": "",
            "zerolinecolor": "white"
           },
           "yaxis": {
            "backgroundcolor": "#E5ECF6",
            "gridcolor": "white",
            "gridwidth": 2,
            "linecolor": "white",
            "showbackground": true,
            "ticks": "",
            "zerolinecolor": "white"
           },
           "zaxis": {
            "backgroundcolor": "#E5ECF6",
            "gridcolor": "white",
            "gridwidth": 2,
            "linecolor": "white",
            "showbackground": true,
            "ticks": "",
            "zerolinecolor": "white"
           }
          },
          "shapedefaults": {
           "line": {
            "color": "#2a3f5f"
           }
          },
          "ternary": {
           "aaxis": {
            "gridcolor": "white",
            "linecolor": "white",
            "ticks": ""
           },
           "baxis": {
            "gridcolor": "white",
            "linecolor": "white",
            "ticks": ""
           },
           "bgcolor": "#E5ECF6",
           "caxis": {
            "gridcolor": "white",
            "linecolor": "white",
            "ticks": ""
           }
          },
          "title": {
           "x": 0.05
          },
          "xaxis": {
           "automargin": true,
           "gridcolor": "white",
           "linecolor": "white",
           "ticks": "",
           "title": {
            "standoff": 15
           },
           "zerolinecolor": "white",
           "zerolinewidth": 2
          },
          "yaxis": {
           "automargin": true,
           "gridcolor": "white",
           "linecolor": "white",
           "ticks": "",
           "title": {
            "standoff": 15
           },
           "zerolinecolor": "white",
           "zerolinewidth": 2
          }
         }
        },
        "title": {
         "text": "Bitcoin and Financial Select SPDR Fund Comparison"
        },
        "xaxis": {
         "anchor": "y",
         "domain": [
          0,
          0.94
         ],
         "gridcolor": "lightgrey",
         "matches": "x3",
         "nticks": 20,
         "rangeslider": {
          "visible": false
         },
         "showticklabels": false,
         "tickangle": 45,
         "tickformat": "%Y-%m",
         "tickmode": "auto"
        },
        "xaxis2": {
         "anchor": "y3",
         "domain": [
          0,
          0.94
         ],
         "gridcolor": "lightgrey",
         "matches": "x3",
         "nticks": 20,
         "rangeslider": {
          "visible": false
         },
         "showticklabels": false,
         "tickangle": 45,
         "tickformat": "%Y-%m",
         "tickmode": "auto"
        },
        "xaxis3": {
         "anchor": "y5",
         "domain": [
          0,
          0.94
         ],
         "gridcolor": "lightgrey",
         "nticks": 20,
         "rangeslider": {
          "visible": false
         },
         "tickangle": 45,
         "tickformat": "%Y-%m",
         "tickmode": "auto"
        },
        "yaxis": {
         "anchor": "x",
         "domain": [
          0.4600000000000001,
          1
         ],
         "gridcolor": "lightgrey",
         "title": {
          "text": "Bitcoin Price ($)"
         }
        },
        "yaxis2": {
         "anchor": "x",
         "gridcolor": "lightgrey",
         "overlaying": "y",
         "side": "right",
         "title": {
          "text": "SPDR Price ($)"
         }
        },
        "yaxis3": {
         "anchor": "x2",
         "domain": [
          0.23000000000000004,
          0.41000000000000003
         ],
         "gridcolor": "lightgrey",
         "title": {
          "text": "Bitcoin Volume"
         }
        },
        "yaxis4": {
         "anchor": "x2",
         "gridcolor": "lightgrey",
         "overlaying": "y3",
         "side": "right",
         "title": {
          "text": "SPDR Volume"
         }
        },
        "yaxis5": {
         "anchor": "x3",
         "domain": [
          0,
          0.18000000000000002
         ],
         "gridcolor": "lightgrey",
         "title": {
          "text": "Bitcoin Volatility (%)"
         }
        },
        "yaxis6": {
         "anchor": "x3",
         "gridcolor": "lightgrey",
         "overlaying": "y5",
         "side": "right",
         "title": {
          "text": "SPDR Volatility (%)"
         }
        }
       }
      }
     },
     "metadata": {},
     "output_type": "display_data"
    }
   ],
   "source": [
    "import plotly.graph_objects as go\n",
    "from plotly.subplots import make_subplots\n",
    "\n",
    "# Calculate volatility for SPDR Fund\n",
    "merged_data_full['stock_volatility'] = merged_data_full['stock_close'].pct_change().rolling(window=5).std() * 100\n",
    "\n",
    "# Create the figure with secondary y-axis for all subplots\n",
    "fig = make_subplots(\n",
    "    rows=3, cols=1,\n",
    "    shared_xaxes=True,\n",
    "    vertical_spacing=0.05,\n",
    "    subplot_titles=('Price Comparison', 'Trading Volume', 'Volatility'),\n",
    "    row_heights=[0.6, 0.2, 0.2],\n",
    "    specs=[[{\"secondary_y\": True}],\n",
    "           [{\"secondary_y\": True}],\n",
    "           [{\"secondary_y\": True}]]\n",
    ")\n",
    "\n",
    "# Add Bitcoin price line\n",
    "fig.add_trace(\n",
    "    go.Scatter(\n",
    "        x=bitcoin_ohlc.index,\n",
    "        y=bitcoin_ohlc['Close'],\n",
    "        name='Bitcoin Price',\n",
    "        line=dict(color='orange', width=2),\n",
    "        mode='lines'\n",
    "    ),\n",
    "    row=1, col=1,\n",
    "    secondary_y=False\n",
    ")\n",
    "\n",
    "# Add Financial Select price line\n",
    "fig.add_trace(\n",
    "    go.Scatter(\n",
    "        x=merged_data_full.index,\n",
    "        y=merged_data_full['stock_close'],\n",
    "        name='SPDR Fund Price',\n",
    "        line=dict(color='royalblue', width=2),\n",
    "        mode='lines'\n",
    "    ),\n",
    "    row=1, col=1,\n",
    "    secondary_y=True\n",
    ")\n",
    "\n",
    "# Add Bitcoin volume line\n",
    "fig.add_trace(\n",
    "    go.Scatter(\n",
    "        x=bitcoin_ohlc.index,\n",
    "        y=bitcoin_ohlc['Volume'],\n",
    "        name='Bitcoin Volume',\n",
    "        line=dict(color='orange', width=1, dash='dot'),\n",
    "        mode='lines'\n",
    "    ),\n",
    "    row=2, col=1,\n",
    "    secondary_y=False\n",
    ")\n",
    "\n",
    "if 'stock_volume' in merged_data_full.columns:\n",
    "    fig.add_trace(\n",
    "        go.Scatter(\n",
    "            x=merged_data_full.index,\n",
    "            y=merged_data_full['stock_volume'],\n",
    "            name='SPDR Volume',\n",
    "            line=dict(color='royalblue', width=1, dash='dot'),\n",
    "            mode='lines'\n",
    "        ),\n",
    "        row=2, col=1,\n",
    "        secondary_y=True\n",
    "    )\n",
    "\n",
    "# Add Bitcoin volatility line\n",
    "fig.add_trace(\n",
    "    go.Scatter(\n",
    "        x=btc_data_full.index,\n",
    "        y=btc_data_full['btc_volatility'],\n",
    "        name='Bitcoin Volatility',\n",
    "        line=dict(color='orange', width=1),\n",
    "        mode='lines'\n",
    "    ),\n",
    "    row=3, col=1,\n",
    "    secondary_y=False\n",
    ")\n",
    "\n",
    "# Add Financial Select volatility line\n",
    "fig.add_trace(\n",
    "    go.Scatter(\n",
    "        x=merged_data_full.index,\n",
    "        y=merged_data_full['stock_volatility'],\n",
    "        name='SPDR Volatility',\n",
    "        line=dict(color='royalblue', width=1),\n",
    "        mode='lines'\n",
    "    ),\n",
    "    row=3, col=1,\n",
    "    secondary_y=True\n",
    ")\n",
    "\n",
    "fig.update_layout(\n",
    "    title='Bitcoin and Financial Select SPDR Fund Comparison',\n",
    "    height=1000,\n",
    "    showlegend=True,\n",
    "    legend=dict(\n",
    "        yanchor=\"top\",\n",
    "        y=0.99,\n",
    "        xanchor=\"left\",\n",
    "        x=0.01\n",
    "    ),\n",
    "    hovermode='x unified',\n",
    "    plot_bgcolor='white',\n",
    "    paper_bgcolor='white'\n",
    ")\n",
    "\n",
    "fig.update_yaxes(title_text=\"Bitcoin Price ($)\", row=1, col=1, secondary_y=False, gridcolor='lightgrey')\n",
    "fig.update_yaxes(title_text=\"SPDR Price ($)\", row=1, col=1, secondary_y=True, gridcolor='lightgrey')\n",
    "\n",
    "fig.update_yaxes(title_text=\"Bitcoin Volume\", row=2, col=1, secondary_y=False, gridcolor='lightgrey')\n",
    "fig.update_yaxes(title_text=\"SPDR Volume\", row=2, col=1, secondary_y=True, gridcolor='lightgrey')\n",
    "\n",
    "fig.update_yaxes(title_text=\"Bitcoin Volatility (%)\", row=3, col=1, secondary_y=False, gridcolor='lightgrey')\n",
    "fig.update_yaxes(title_text=\"SPDR Volatility (%)\", row=3, col=1, secondary_y=True, gridcolor='lightgrey')\n",
    "\n",
    "fig.update_xaxes(\n",
    "    rangeslider_visible=False,\n",
    "    tickformat=\"%Y-%m\",\n",
    "    tickmode='auto',\n",
    "    nticks=20,\n",
    "    tickangle=45,\n",
    "    gridcolor='lightgrey'\n",
    ")\n",
    "\n",
    "for trace in fig.data:\n",
    "    if 'Price' in trace.name:\n",
    "        trace.hovertemplate = \"%{x|%Y-%m-%d}<br>%{y:$.2f}<extra>\" + trace.name + \"</extra>\"\n",
    "    elif 'Volume' in trace.name:\n",
    "        trace.hovertemplate = \"%{x|%Y-%m-%d}<br>%{y:,.0f}<extra>\" + trace.name + \"</extra>\"\n",
    "    elif 'Volatility' in trace.name:\n",
    "        trace.hovertemplate = \"%{x|%Y-%m-%d}<br>%{y:.2f}%<extra>\" + trace.name + \"</extra>\"\n",
    "\n",
    "fig.show()"
   ]
  },
  {
   "cell_type": "code",
   "execution_count": null,
   "metadata": {},
   "outputs": [],
   "source": []
  },
  {
   "cell_type": "code",
   "execution_count": null,
   "metadata": {},
   "outputs": [],
   "source": []
  }
 ],
 "metadata": {
  "kernelspec": {
   "display_name": "dev",
   "language": "python",
   "name": "python3"
  },
  "language_info": {
   "codemirror_mode": {
    "name": "ipython",
    "version": 3
   },
   "file_extension": ".py",
   "mimetype": "text/x-python",
   "name": "python",
   "nbconvert_exporter": "python",
   "pygments_lexer": "ipython3",
   "version": "3.10.15"
  }
 },
 "nbformat": 4,
 "nbformat_minor": 2
}
